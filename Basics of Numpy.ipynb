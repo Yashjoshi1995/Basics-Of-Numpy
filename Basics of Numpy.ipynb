{
 "cells": [
  {
   "cell_type": "markdown",
   "metadata": {},
   "source": [
    "# Basics of Numpy  <img src = \"numpy1.png\">\n",
    "###### Authored by T.K.Senthil Kumar"
   ]
  },
  {
   "cell_type": "markdown",
   "metadata": {},
   "source": [
    "#### 1. Create a numpy array with the number of elements equals your age. The value of array elements is a random number between 10 to your age "
   ]
  },
  {
   "cell_type": "code",
   "execution_count": 1,
   "metadata": {},
   "outputs": [
    {
     "name": "stdout",
     "output_type": "stream",
     "text": [
      "[[22 18 13 18 22 19 15 12 15 15 11 18 22 16 21 22 11 17 21 20 11 20 19 21]]\n"
     ]
    }
   ],
   "source": [
    "#Solution\n",
    "import numpy as np\n",
    "ar=np.random.randint(10,24,size=(1,24))\n",
    "print(np.round(ar,2))"
   ]
  },
  {
   "cell_type": "markdown",
   "metadata": {},
   "source": [
    "#### 2. Create a numpy array between 1 to 50 with the span(space) of 2 and print the length of the array"
   ]
  },
  {
   "cell_type": "code",
   "execution_count": 2,
   "metadata": {},
   "outputs": [
    {
     "name": "stdout",
     "output_type": "stream",
     "text": [
      "[ 1  3  5  7  9 11 13 15 17 19 21 23 25 27 29 31 33 35 37 39 41 43 45 47\n",
      " 49]\n",
      "25\n"
     ]
    }
   ],
   "source": [
    "# Solution\n",
    "a=np.arange(1,51,2)\n",
    "print(a.astype('int32'))\n",
    "print(len(a))"
   ]
  },
  {
   "cell_type": "markdown",
   "metadata": {},
   "source": [
    "#### 3. Create an equally spaced numpy array with 27 elements between 4 and 7 "
   ]
  },
  {
   "cell_type": "code",
   "execution_count": 3,
   "metadata": {},
   "outputs": [
    {
     "name": "stdout",
     "output_type": "stream",
     "text": [
      "[4.         4.11538462 4.23076923 4.34615385 4.46153846 4.57692308\n",
      " 4.69230769 4.80769231 4.92307692 5.03846154 5.15384615 5.26923077\n",
      " 5.38461538 5.5        5.61538462 5.73076923 5.84615385 5.96153846\n",
      " 6.07692308 6.19230769 6.30769231 6.42307692 6.53846154 6.65384615\n",
      " 6.76923077 6.88461538 7.        ]\n"
     ]
    }
   ],
   "source": [
    "# Solution\n",
    "b = np.linspace(4,7,27)\n",
    "print(b)\n"
   ]
  },
  {
   "cell_type": "markdown",
   "metadata": {},
   "source": [
    "#### 4. Create a matrix of size (5 x 4) with random numbers and round off the each elements by only 2 fractional points."
   ]
  },
  {
   "cell_type": "code",
   "execution_count": 4,
   "metadata": {},
   "outputs": [
    {
     "name": "stdout",
     "output_type": "stream",
     "text": [
      "[[0.28 0.4  0.76 0.59]\n",
      " [0.91 0.35 0.93 0.85]\n",
      " [0.56 0.23 0.14 0.13]\n",
      " [0.79 0.43 0.83 0.28]\n",
      " [0.67 0.84 0.39 0.8 ]]\n"
     ]
    }
   ],
   "source": [
    "# Solution\n",
    "c = np.random.rand(5,4)\n",
    "print(np.round(c,2))"
   ]
  },
  {
   "cell_type": "markdown",
   "metadata": {},
   "source": [
    "#### 5. Create a matrix of size (5x5) with random integers between 5 to 15"
   ]
  },
  {
   "cell_type": "code",
   "execution_count": 27,
   "metadata": {},
   "outputs": [
    {
     "name": "stdout",
     "output_type": "stream",
     "text": [
      "[[10  5 12  9  5]\n",
      " [11 14  6  9  5]\n",
      " [15 12 12 14  6]\n",
      " [ 9  9 15 11  6]\n",
      " [12  9 11  5 12]]\n"
     ]
    }
   ],
   "source": [
    "# Solution\n",
    "d = np.random.randint(5,16,size=(5,5))\n",
    "print(d)\n",
    "\n"
   ]
  },
  {
   "cell_type": "markdown",
   "metadata": {},
   "source": [
    "#### 6. Create the one dimensional array of zeros of random length below 20 with the data type int32"
   ]
  },
  {
   "cell_type": "code",
   "execution_count": 5,
   "metadata": {},
   "outputs": [
    {
     "name": "stdout",
     "output_type": "stream",
     "text": [
      "[[0 0 0 0 0 0 0 0 0 0 0 0 0 0 0 0 0 0]]\n",
      "<class 'numpy.ndarray'>\n",
      "int32\n"
     ]
    }
   ],
   "source": [
    "# Solution\n",
    "l = np.random.randint(20)\n",
    "e = np.zeros([1,l],dtype='int')\n",
    "print(e)\n",
    "print(type(e))\n",
    "print(e.dtype)\n"
   ]
  },
  {
   "cell_type": "markdown",
   "metadata": {},
   "source": [
    "#### 7. Create a two dimensional array of ones of random row and column lengths with the data type of float32 "
   ]
  },
  {
   "cell_type": "code",
   "execution_count": 38,
   "metadata": {},
   "outputs": [
    {
     "name": "stdout",
     "output_type": "stream",
     "text": [
      "[[1. 1.]\n",
      " [1. 1.]\n",
      " [1. 1.]]\n"
     ]
    }
   ],
   "source": [
    "# Solution\n",
    "r = np.random.randint(5)\n",
    "c = np.random.randint(5)\n",
    "print(np.ones([r,c],dtype='float32'))"
   ]
  },
  {
   "cell_type": "markdown",
   "metadata": {},
   "source": [
    "#### 8. Create a matrix exactly as same as shown below and print its shape, type and dtype\n",
    "<img src = \"np_mat1.png\">"
   ]
  },
  {
   "cell_type": "code",
   "execution_count": 9,
   "metadata": {},
   "outputs": [
    {
     "name": "stdout",
     "output_type": "stream",
     "text": [
      "[[ 9 25 50 34 45]\n",
      " [ 3 34 34 65  2]\n",
      " [ 5  7  3 76  3]\n",
      " [ 7  8  6 54  6]\n",
      " [23 12  8  5  8]]\n",
      "(5, 5)\n",
      "<class 'numpy.ndarray'>\n",
      "int32\n"
     ]
    }
   ],
   "source": [
    "# Solution\n",
    "a = np.array([[9,25,50,34,45],[3,34,34,65,2],[5,7,3,76,3],[7,8,6,54,6],[23,12,8,5,8]])\n",
    "print(a)\n",
    "print(a.shape)\n",
    "print(type(a))\n",
    "print(a.dtype)\n"
   ]
  },
  {
   "cell_type": "markdown",
   "metadata": {},
   "source": [
    "#### 9. Access the center pixel of the matrix defined in the question no 8 ( Don't enter the row and column index explicitely)"
   ]
  },
  {
   "cell_type": "code",
   "execution_count": 13,
   "metadata": {},
   "outputs": [
    {
     "name": "stdout",
     "output_type": "stream",
     "text": [
      "[[ 9 25 50 34 45]\n",
      " [ 3 34 34 65  2]\n",
      " [ 5  7  3 76  3]\n",
      " [ 7  8  6 54  6]\n",
      " [23 12  8  5  8]]\n",
      "\n",
      "Central Pixel\n",
      "3\n"
     ]
    }
   ],
   "source": [
    "# Solution\n",
    "print(a)\n",
    "print()\n",
    "print(\"Central Pixel\")\n",
    "print(a[2,2])\n",
    "\n"
   ]
  },
  {
   "cell_type": "markdown",
   "metadata": {},
   "source": [
    "#### 10. Print the all the elements of 3rd row of the matrix"
   ]
  },
  {
   "cell_type": "code",
   "execution_count": 18,
   "metadata": {},
   "outputs": [
    {
     "name": "stdout",
     "output_type": "stream",
     "text": [
      "[[ 9 25 50 34 45]\n",
      " [ 3 34 34 65  2]\n",
      " [ 5  7  3 76  3]\n",
      " [ 7  8  6 54  6]\n",
      " [23 12  8  5  8]]\n",
      "\n",
      "All the elements of th first row matrix\n",
      "[ 5  7  3 76  3]\n"
     ]
    }
   ],
   "source": [
    "# Solution\n",
    "print(a)\n",
    "print()\n",
    "print(\"All the elements of th first row matrix\")\n",
    "print(a[2,:])\n",
    "\n"
   ]
  },
  {
   "cell_type": "markdown",
   "metadata": {},
   "source": [
    "#### 11. Print the all the elements of 4th columns of the matrix"
   ]
  },
  {
   "cell_type": "code",
   "execution_count": 17,
   "metadata": {},
   "outputs": [
    {
     "name": "stdout",
     "output_type": "stream",
     "text": [
      "[[ 9 25 50 34 45]\n",
      " [ 3 34 34 65  2]\n",
      " [ 5  7  3 76  3]\n",
      " [ 7  8  6 54  6]\n",
      " [23 12  8  5  8]]\n",
      "\n",
      "All the elements of 4th column matrix\n",
      "[34 65 76 54  5]\n"
     ]
    }
   ],
   "source": [
    "# Solution\n",
    "print(a)\n",
    "print()\n",
    "print(\"All the elements of 4th column matrix\")\n",
    "print(a[:,3])\n",
    "\n"
   ]
  },
  {
   "cell_type": "markdown",
   "metadata": {},
   "source": [
    "#### 12. Print the 4 corner pixels of the matrix"
   ]
  },
  {
   "cell_type": "code",
   "execution_count": 20,
   "metadata": {},
   "outputs": [
    {
     "name": "stdout",
     "output_type": "stream",
     "text": [
      "[[ 9 25 50 34 45]\n",
      " [ 3 34 34 65  2]\n",
      " [ 5  7  3 76  3]\n",
      " [ 7  8  6 54  6]\n",
      " [23 12  8  5  8]]\n",
      "\n",
      "All 4 corner pixels\n",
      "[[ 9 45]\n",
      " [23  8]]\n"
     ]
    }
   ],
   "source": [
    "# Solution\n",
    "print(a)\n",
    "print()\n",
    "print(\"All 4 corner pixels\")\n",
    "print(a[[0,4],0:5:4])\n"
   ]
  },
  {
   "cell_type": "markdown",
   "metadata": {},
   "source": [
    "#### 13. Create three matrix m1,m2,m3 with the elements grouped in the figure below\n",
    "<img src = \"np_mat2.png\">"
   ]
  },
  {
   "cell_type": "code",
   "execution_count": 21,
   "metadata": {},
   "outputs": [
    {
     "name": "stdout",
     "output_type": "stream",
     "text": [
      "Array= [[ 9 25 50 34 45]\n",
      " [ 3 34 34 65  2]\n",
      " [ 5  7  3 76  3]\n",
      " [ 7  8  6 54  6]\n",
      " [23 12  8  5  8]]\n",
      "\n",
      "m1= [[50 34]\n",
      " [34 65]]\n",
      "\n",
      "m2= [[ 7  8]\n",
      " [23 12]]\n",
      "\n",
      "m3= [[ 3 76  3]\n",
      " [ 6 54  6]\n",
      " [ 8  5  8]]\n"
     ]
    }
   ],
   "source": [
    "# Solution \n",
    "a = np.array([[9,25,50,34,45],[3,34,34,65,2],[5,7,3,76,3],[7,8,6,54,6],[23,12,8,5,8]])\n",
    "print(\"Array=\",a)\n",
    "print()\n",
    "m1=a[[0,1],2:4]\n",
    "print(\"m1=\",m1)\n",
    "print()\n",
    "m2=a[[3,4],0:2]\n",
    "print(\"m2=\",m2)\n",
    "print()\n",
    "m3=a[2:5, 2:5]\n",
    "print(\"m3=\",m3)"
   ]
  },
  {
   "cell_type": "markdown",
   "metadata": {},
   "source": [
    "#### 14. Reshape all the three matrix segmented in the above task in to three  1-dimensional vector."
   ]
  },
  {
   "cell_type": "code",
   "execution_count": 73,
   "metadata": {},
   "outputs": [
    {
     "name": "stdout",
     "output_type": "stream",
     "text": [
      "[[50 34 34 65]]\n",
      "[[ 7  8 23 12]]\n",
      "[[ 3 76  3  6 54  6  8  5  8]]\n"
     ]
    }
   ],
   "source": [
    "# Solution\n",
    "\n",
    "print(m1.reshape(1,-1))\n",
    "print(m2.reshape(1,-1))\n",
    "print(m3.reshape(1,-1))\n"
   ]
  },
  {
   "cell_type": "markdown",
   "metadata": {},
   "source": [
    "#### 15. Concatenate the matrix m1 and m2 in both vertical and horizontal direction"
   ]
  },
  {
   "cell_type": "code",
   "execution_count": 74,
   "metadata": {},
   "outputs": [
    {
     "name": "stdout",
     "output_type": "stream",
     "text": [
      "[[57 42]\n",
      " [57 77]]\n"
     ]
    }
   ],
   "source": [
    "# Solution\n",
    "\n",
    "m4=m1+m2\n",
    "print(m4)\n"
   ]
  },
  {
   "cell_type": "markdown",
   "metadata": {},
   "source": [
    "#### 16. Add, Subtract, multiply, divide the matrixes m1 and m2"
   ]
  },
  {
   "cell_type": "code",
   "execution_count": 25,
   "metadata": {},
   "outputs": [
    {
     "name": "stdout",
     "output_type": "stream",
     "text": [
      "Addition= \n",
      " [[57 42]\n",
      " [57 77]]\n",
      "\n",
      "Subtraction= \n",
      " [[43 26]\n",
      " [11 53]]\n",
      "\n",
      "Multiplication= \n",
      " [[350 272]\n",
      " [782 780]]\n",
      "\n",
      "Division= \n",
      " [[7.14285714 4.25      ]\n",
      " [1.47826087 5.41666667]]\n"
     ]
    }
   ],
   "source": [
    "# Solution\n",
    "print(\"Addition=\",'\\n',np.add(m1,m2))\n",
    "print()\n",
    "print(\"Subtraction=\",'\\n',np.subtract(m1,m2))\n",
    "print()\n",
    "print(\"Multiplication=\",'\\n',np.multiply(m1,m2))\n",
    "print()\n",
    "print(\"Division=\",'\\n',np.divide(m1,m2))\n",
    "\n"
   ]
  },
  {
   "cell_type": "markdown",
   "metadata": {},
   "source": [
    "#### 17. Add the m1 with m2 by removing the first row and last column of m2"
   ]
  },
  {
   "cell_type": "code",
   "execution_count": 26,
   "metadata": {},
   "outputs": [
    {
     "name": "stdout",
     "output_type": "stream",
     "text": [
      "[[ 9 25 50 34 45]\n",
      " [ 3 34 34 65  2]\n",
      " [ 5  7  3 76  3]\n",
      " [ 7  8  6 54  6]\n",
      " [23 12  8  5  8]]\n",
      "\n",
      "m1= [[ 9 25 50]\n",
      " [ 3 34 34]\n",
      " [ 5  7  3]]\n",
      "\n",
      "m2= [[ 5  7  3]\n",
      " [ 7  8  6]\n",
      " [23 12  8]]\n",
      "\n",
      "--------------------\n",
      "[[ 9 25 50]\n",
      " [ 7  8  6]\n",
      " [23 12  8]]\n",
      "------------------------------\n",
      "[[ 9 25 50]\n",
      " [ 7  8 34]\n",
      " [23 12 50]]\n"
     ]
    }
   ],
   "source": [
    "# Solution\n",
    "a = np.array([[9,25,50,34,45],[3,34,34,65,2],[5,7,3,76,3],[7,8,6,54,6],[23,12,8,5,8]])\n",
    "print(a)\n",
    "print()\n",
    "m1=a[0:3,0:3]\n",
    "print(\"m1=\",m1)\n",
    "print()\n",
    "m2=a[2:6,0:3]\n",
    "print(\"m2=\",m2)\n",
    "print()\n",
    "m2[0,:]=m1[0,:]\n",
    "print('-'*20)\n",
    "print(m2)\n",
    "m2[:,2]=m1[:,2]\n",
    "print('-'*30)\n",
    "print(m2)"
   ]
  },
  {
   "cell_type": "markdown",
   "metadata": {},
   "source": [
    "#### 18. Perform the matrix multiplication between m3 and m4"
   ]
  },
  {
   "cell_type": "code",
   "execution_count": 44,
   "metadata": {},
   "outputs": [
    {
     "name": "stdout",
     "output_type": "stream",
     "text": [
      "[[  21.         1140.           17.        ]\n",
      " [  42.          810.           34.        ]\n",
      " [  56.           75.           45.33333333]]\n"
     ]
    }
   ],
   "source": [
    "# Solution\n",
    "print(np.multiply(m3,m4))\n"
   ]
  },
  {
   "cell_type": "markdown",
   "metadata": {},
   "source": [
    "#### 19. Compute the maximum and minimum value of mean, variance, standard deviation for each row of matrix created in question number 8."
   ]
  },
  {
   "cell_type": "code",
   "execution_count": 45,
   "metadata": {},
   "outputs": [
    {
     "name": "stdout",
     "output_type": "stream",
     "text": [
      "[[ 9 25 50 34 45]\n",
      " [ 3 34 34 65  2]\n",
      " [ 5  7  3 76  3]\n",
      " [ 7  8  6 54  6]\n",
      " [23 12  8  5  8]]\n",
      "21.28\n",
      "456.44159999999994\n",
      "21.364493909287905\n"
     ]
    }
   ],
   "source": [
    "# Solution\n",
    "a = np.array([[9,25,50,34,45],[3,34,34,65,2],[5,7,3,76,3],[7,8,6,54,6],[23,12,8,5,8]])\n",
    "print(a)\n",
    "print(np.mean(a))\n",
    "print(np.var(a))\n",
    "print(np.std(a))\n",
    "\n",
    "\n"
   ]
  },
  {
   "cell_type": "markdown",
   "metadata": {},
   "source": [
    "#### 20. Compute the average and strike rate for each player and sort it decending way (seperately for avg and strike rate)\n",
    "<img src = 'crick1.png'>"
   ]
  },
  {
   "cell_type": "code",
   "execution_count": 31,
   "metadata": {},
   "outputs": [
    {
     "name": "stdout",
     "output_type": "stream",
     "text": [
      "Runs scored in 4 matches: [[ 54  60  10  65]\n",
      " [102   2  78  32]\n",
      " [  3 110   1  92]\n",
      " [ 56   6  12  42]\n",
      " [ 12   8  22  11]]\n",
      "Balls faced in 4 matches: [[ 50  42  22  78]\n",
      " [ 95   8  65  43]\n",
      " [  9 100   7 101]\n",
      " [ 27   3  11  31]\n",
      " [ 24  20  36  27]]\n",
      "[[47.25, 53.5, 51.5, 29.0, 13.25]]\n",
      "\n",
      "Average of each player: [[13.25 29.   47.25 51.5  53.5 ]]\n",
      "--------------------------------------------------\n",
      "\n",
      "[[1.08       1.42857143 0.45454545 0.83333333]\n",
      " [1.07368421 0.25       1.2        0.74418605]\n",
      " [0.33333333 1.1        0.14285714 0.91089109]\n",
      " [2.07407407 2.         1.09090909 1.35483871]\n",
      " [0.5        0.4        0.61111111 0.40740741]]\n",
      "\n",
      "Strike Rate: [1.92 2.49 3.27 3.8  6.52]\n"
     ]
    }
   ],
   "source": [
    "# Solution \n",
    "r=np.array([[54,60,10,65],[102,2,78,32],[3,110,1,92],[56,6,12,42],[12,8,22,11]])\n",
    "b=np.array([[50,42,22,78],[95,8,65,43],[9,100,7,101],[27,3,11,31],[24,20,36,27]])\n",
    "print(\"Runs scored in 4 matches:\",r)\n",
    "print(\"Balls faced in 4 matches:\",b)\n",
    "# print(\"Average for MSD:\",np.mean(r[0,:]))\n",
    "# print(\"Average for KHOLI:\",np.mean(r[1,:]))\n",
    "# print(\"Average for ROHIT:\",np.mean(r[2,:]))\n",
    "# print(\"Average for RAHUL:\",np.mean(r[3,:]))\n",
    "# print(\"Average for DHAWAN:\",np.mean(r[4,:]))\n",
    "a=np.array([])\n",
    "a=[[np.mean(r[0,:]),np.mean(r[1,:]),np.mean(r[2,:]),np.mean(r[3,:]),np.mean(r[4,:])]] #a=np.mean(r,axis=1)\n",
    "print(a)\n",
    "print()\n",
    "avg=np.sort(a)\n",
    "print(\"Average of each player:\",np.round(avg,2))\n",
    "print('-'*50)\n",
    "print()\n",
    "s=np.divide(r,b)\n",
    "print(s)\n",
    "print()\n",
    "y=np.array([])\n",
    "y=[np.sum(s[0,:]),np.sum(s[1,:]),np.sum(s[2,:]),np.sum(s[3,:]),np.sum(s[4,:])]\n",
    "sr=np.sort(y)                                                        \n",
    "print(\"Strike Rate:\",np.round(sr,2))                                                      "
   ]
  },
  {
   "cell_type": "markdown",
   "metadata": {},
   "source": [
    "#### 21. The students mark was recorded in a numpy array: marks = np.array([65,84,47,56,89,98,48,77,80,39]).  Cutoff for pass is 50 marks. Write the logic to print the number of students passed and failed. "
   ]
  },
  {
   "cell_type": "code",
   "execution_count": 46,
   "metadata": {},
   "outputs": [
    {
     "name": "stdout",
     "output_type": "stream",
     "text": [
      "Failed Students: 3\n",
      "Passed Students: 7\n"
     ]
    }
   ],
   "source": [
    "# Solution\n",
    "marks = np.array([65,84,47,56,89,98,48,77,80,39])\n",
    "index=np.where(marks<50)\n",
    "print(\"Failed Students:\",len(marks[index]))\n",
    "print(\"Passed Students:\",len(marks[np.where(marks>=50)]))\n"
   ]
  },
  {
   "cell_type": "markdown",
   "metadata": {},
   "source": [
    "#### 22. The class incharge decided to give a mercy mark of 5 for those who scored between 45 and 49. Also the bonus of 5 marks awarded to the students who scored more than 80. Print all the student marks and compute the increase in the pass percentage of class. Any score more than 100 must be recorded as only 100."
   ]
  },
  {
   "cell_type": "code",
   "execution_count": 47,
   "metadata": {},
   "outputs": [
    {
     "name": "stdout",
     "output_type": "stream",
     "text": [
      "Actual marks:\n",
      "[65 84 47 56 89 98 48 77 80 39]\n",
      "Bonus Marks:\n",
      "[ 65  89  52  56  94 103  53  77  85  39]\n"
     ]
    }
   ],
   "source": [
    "# Solution\n",
    "mar=marks.copy()\n",
    "mar[np.where((mar>=45) & (mar<50))]= mar[np.where((mar>=45) & (mar<50))] +5\n",
    "mar[np.where((mar>=80) & (mar<100))]=mar[np.where((mar>=80) & (mar<100))]+5     \n",
    "print(\"Actual marks:\")\n",
    "print(marks)\n",
    "print(\"Bonus Marks:\")\n",
    "print(mar)\n"
   ]
  },
  {
   "cell_type": "markdown",
   "metadata": {},
   "source": [
    "#### 23. Print the time taken for performing the following operation using list and numpy array\n",
    "####       (x(i)^2 +8) / y(i),   where x and y are real integers from 1 to 60000"
   ]
  },
  {
   "cell_type": "code",
   "execution_count": 48,
   "metadata": {},
   "outputs": [
    {
     "name": "stdout",
     "output_type": "stream",
     "text": [
      "range(1, 6000)\n",
      "range(1, 6000)\n",
      "Time taken to complete the computation using LIST is :  13.987302780151367\n",
      "Time taken to complete the computation using NUMPY ARRAY is :  0.9984970092773438\n"
     ]
    }
   ],
   "source": [
    "# Solution\n",
    "import time\n",
    "x=range(1,6000)\n",
    "y=range(1,6000)\n",
    "a=[]\n",
    "st=time.time()\n",
    "print(x)\n",
    "print(y)\n",
    "\n",
    "for i,j in zip(x,y):\n",
    "    a.append((x[i-1]*x[i-1]+8)/y[i-1])\n",
    "\n",
    "print('Time taken to complete the computation using LIST is : ', (time.time()-st)*1000)\n",
    "\n",
    "x1=np.arange(1,60000)\n",
    "y1=np.arange(1,60000)\n",
    "st1=time.time()\n",
    "a1=((x1*x1)+8)/y1\n",
    "print('Time taken to complete the computation using NUMPY ARRAY is : ', (time.time()-st1)*1000)\n",
    "\n",
    "\n"
   ]
  },
  {
   "cell_type": "code",
   "execution_count": 104,
   "metadata": {},
   "outputs": [],
   "source": [
    "# Solution\n",
    "\n",
    "\n",
    "\n"
   ]
  }
 ],
 "metadata": {
  "kernelspec": {
   "display_name": "Python 3",
   "language": "python",
   "name": "python3"
  },
  "language_info": {
   "codemirror_mode": {
    "name": "ipython",
    "version": 3
   },
   "file_extension": ".py",
   "mimetype": "text/x-python",
   "name": "python",
   "nbconvert_exporter": "python",
   "pygments_lexer": "ipython3",
   "version": "3.7.3"
  }
 },
 "nbformat": 4,
 "nbformat_minor": 2
}
